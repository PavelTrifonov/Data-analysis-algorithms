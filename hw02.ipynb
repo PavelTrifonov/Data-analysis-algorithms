{
 "cells": [
  {
   "cell_type": "markdown",
   "metadata": {},
   "source": [
    "### Практическое задание\n",
    "1. Можно ли к одному и тому же признаку применить сразу и нормализацию, и стандартизацию?"
   ]
  },
  {
   "cell_type": "markdown",
   "metadata": {},
   "source": [
    "\n",
    "Нормализация и стандартизация - это два разных метода масштабирования признаков в машинном обучении.\n",
    "\n",
    "**Нормализация**: Этот метод масштабирует значения признаков таким образом, чтобы они попадали в заданный диапазон, обычно от 0 до 1. Это делается путем вычитания минимального значения признака из каждого значения и затем деления на разницу между максимальным и минимальным значениями признака.\n",
    "\n",
    "**Стандартизация**: Этот метод центрирует значения признаков вокруг их среднего значения и масштабирует их так, чтобы они имели единичное стандартное отклонение. Это достигается путем вычитания среднего значения признака и деления на стандартное отклонение.\n",
    "\n",
    "Оба метода независимо друг от друга применяются к каждому признаку. Применение и нормализации, и стандартизации к одному и тому же признаку не имеет смысла и может привести к нежелательным результатам, так как они оба изменят значения признаков, но по-разному.\n",
    "\n",
    "Лучше всего применить их отдельно к разным наборам признаков или выбрать один из методов, который лучше подходит для конкретной задачи."
   ]
  },
  {
   "cell_type": "markdown",
   "metadata": {},
   "source": [
    "2. Напишите функцию наподобие eval_model_reg2, но для применения L1-регуляризации."
   ]
  },
  {
   "cell_type": "code",
   "execution_count": 54,
   "metadata": {},
   "outputs": [],
   "source": [
    "import numpy as np"
   ]
  },
  {
   "cell_type": "markdown",
   "metadata": {},
   "source": [
    "f(x, W) + (lambda_/2) * np.sum(np.abs(W))"
   ]
  },
  {
   "cell_type": "code",
   "execution_count": 55,
   "metadata": {},
   "outputs": [],
   "source": [
    "X = np.array([[1, 1, 1, 1, 1, 1, 1, 1, 1, 1],\n",
    "              [1, 1, 2, 5, 3, 0, 5, 10, 1, 2],\n",
    "              [500, 700, 750, 600, 1450, 800, 1500, 2000, 450, 1000],\n",
    "              [1, 1, 2, 1, 2, 1, 3, 3, 1, 2]])"
   ]
  },
  {
   "cell_type": "code",
   "execution_count": 56,
   "metadata": {},
   "outputs": [],
   "source": [
    "y = [45, 55, 50, 55, 60, 35, 75, 80, 50, 60]"
   ]
  },
  {
   "cell_type": "code",
   "execution_count": 57,
   "metadata": {},
   "outputs": [],
   "source": [
    "def calc_std_fit(x):\n",
    "    res = (x - x.mean()) / x.std()\n",
    "    return res"
   ]
  },
  {
   "cell_type": "code",
   "execution_count": 58,
   "metadata": {},
   "outputs": [
    {
     "data": {
      "text/plain": [
       "array([[ 1.        ,  1.        ,  1.        ,  1.        ,  1.        ,\n",
       "         1.        ,  1.        ,  1.        ,  1.        ,  1.        ],\n",
       "       [-0.70710678, -0.70710678, -0.35355339,  0.70710678,  0.        ,\n",
       "        -1.06066017,  0.70710678,  2.47487373, -0.70710678, -0.35355339],\n",
       "       [-0.97958969, -0.56713087, -0.46401617, -0.77336028,  0.97958969,\n",
       "        -0.36090146,  1.08270439,  2.11385144, -1.08270439,  0.05155735],\n",
       "       [-0.89625816, -0.89625816,  0.38411064, -0.89625816,  0.38411064,\n",
       "        -0.89625816,  1.66447944,  1.66447944, -0.89625816,  0.38411064]])"
      ]
     },
     "execution_count": 58,
     "metadata": {},
     "output_type": "execute_result"
    }
   ],
   "source": [
    "X_st = X.copy().astype(np.float64)\n",
    "X_st[1] = calc_std_fit(X[1])\n",
    "X_st[2] = calc_std_fit(X[2])\n",
    "X_st[3] = calc_std_fit(X[3])\n",
    "X_st"
   ]
  },
  {
   "cell_type": "code",
   "execution_count": 59,
   "metadata": {},
   "outputs": [],
   "source": [
    "def calc_mse(y, y_pred):\n",
    "    err = np.mean((y - y_pred)**2)\n",
    "    return err"
   ]
  },
  {
   "cell_type": "code",
   "execution_count": 60,
   "metadata": {},
   "outputs": [],
   "source": [
    "def eval_model_reg1(X, y, iterations, alpha=1e-4, lambda_=1e-8):\n",
    "    np.random.seed(42)\n",
    "    W = np.random.randn(X.shape[0])\n",
    "    n = X.shape[1]\n",
    "    for i in range(1, iterations+1):\n",
    "        y_pred = np.dot(W, X)\n",
    "        err = calc_mse(y, y_pred)\n",
    "        # Градиент функции потерь с L1-регуляризацией\n",
    "        grad = (1/n * 2 * np.dot((y_pred - y), X.T) + lambda_ * np.sign(W))\n",
    "        W -= alpha * grad\n",
    "    return W\n"
   ]
  },
  {
   "cell_type": "code",
   "execution_count": 61,
   "metadata": {},
   "outputs": [
    {
     "data": {
      "text/plain": [
       "array([56.49995   ,  6.30286274, -0.35565596,  6.57092884])"
      ]
     },
     "execution_count": 61,
     "metadata": {},
     "output_type": "execute_result"
    }
   ],
   "source": [
    "W = eval_model_reg1(X_st, y, iterations=5000, alpha=1e-2, lambda_=1e-4)\n",
    "W"
   ]
  },
  {
   "cell_type": "markdown",
   "metadata": {},
   "source": [
    "- array([56.4999999 ,  6.16900869,  0.27834189,  6.05005797]) для классического градиентного спуска\n",
    "- array([56.5106203 ,  6.31268859, -0.36442638,  6.5844895 ]) для стахостического спуска\n",
    "- array([56.49717514,  6.30231751, -0.35424091,  6.56978425]) для L2 регуляризация\n",
    "\n",
    "Как видно из представленных результатов, что L1  показывает близкий результат к остальным градиентным спускам"
   ]
  },
  {
   "cell_type": "markdown",
   "metadata": {},
   "source": [
    "3. Сгенерируйте датасет при помощи <code>sklearn.datasets.make_regression</code> и обучите линейную модель при помощи градиентного и стохастического градиентного спуска. Нанесите среднеквадратичную ошибку для обоих методов на один график, сделайте выводы о разнице скорости сходимости каждого из методов."
   ]
  },
  {
   "cell_type": "code",
   "execution_count": 62,
   "metadata": {},
   "outputs": [
    {
     "data": {
      "text/plain": [
       "array([[-0.71760732, -1.09367119, -0.73597009, ..., -0.09194752,\n",
       "         0.77271648, -0.5294093 ],\n",
       "       [-0.21856062, -0.43937009,  1.17601766, ..., -0.44205731,\n",
       "         0.65967443, -0.5364636 ],\n",
       "       [-0.09232329, -0.04777714,  0.58128624, ..., -0.64041891,\n",
       "         1.29076796, -0.34530826],\n",
       "       ...,\n",
       "       [-0.1724219 ,  1.20477844,  0.77081956, ...,  1.78646758,\n",
       "        -0.59041036, -0.6747931 ],\n",
       "       [ 0.93830193, -0.05266006,  1.45767292, ..., -1.01765261,\n",
       "         0.02393901,  1.37086726],\n",
       "       [-0.99582701,  1.30720547, -0.04855569, ...,  1.85683052,\n",
       "        -0.26133944,  0.50888458]])"
      ]
     },
     "metadata": {},
     "output_type": "display_data"
    },
    {
     "data": {
      "text/plain": [
       "array([-133.10543687,   44.01778172,   48.98233093, ..., -271.14963388,\n",
       "        161.66813826,  380.05918834])"
      ]
     },
     "metadata": {},
     "output_type": "display_data"
    },
    {
     "data": {
      "text/plain": [
       "array([8.03590530e+00, 9.63394753e+00, 0.00000000e+00, 0.00000000e+00,\n",
       "       0.00000000e+00, 7.86058430e+01, 0.00000000e+00, 0.00000000e+00,\n",
       "       9.61298231e+01, 5.95379955e+01, 0.00000000e+00, 3.30583257e+01,\n",
       "       3.71965212e+01, 6.59198012e-02, 0.00000000e+00, 0.00000000e+00,\n",
       "       0.00000000e+00, 2.78539772e+01, 0.00000000e+00, 7.36381949e+01])"
      ]
     },
     "metadata": {},
     "output_type": "display_data"
    }
   ],
   "source": [
    "from sklearn import datasets\n",
    "import matplotlib.pyplot as plt\n",
    "\n",
    "X, Y, coef = datasets.make_regression(n_samples=100000, n_features=20, n_informative=10, n_targets=1, \n",
    "                                      noise=5, coef=True, random_state=2)\n",
    "display(X, Y, coef)"
   ]
  },
  {
   "cell_type": "markdown",
   "metadata": {},
   "source": [
    "Градиентный спуск"
   ]
  },
  {
   "cell_type": "code",
   "execution_count": 63,
   "metadata": {},
   "outputs": [],
   "source": [
    "def standard_scale(X):\n",
    "    '''Масштабирование стандартизацией'''\n",
    "    mean = X.mean(axis=0)\n",
    "    std = X.std(axis=0)\n",
    "    return (X - mean) / std"
   ]
  },
  {
   "cell_type": "code",
   "execution_count": 64,
   "metadata": {},
   "outputs": [],
   "source": [
    "X = standard_scale(X)"
   ]
  },
  {
   "cell_type": "code",
   "execution_count": 65,
   "metadata": {},
   "outputs": [],
   "source": [
    "def calc_mse(y, y_pred):\n",
    "    '''Среднеквадратичая ошибка'''\n",
    "    err = np.mean((y - y_pred)**2)\n",
    "    return err"
   ]
  },
  {
   "cell_type": "code",
   "execution_count": 70,
   "metadata": {},
   "outputs": [],
   "source": [
    "def w():\n",
    "    np.random.seed(9)\n",
    "    return np.random.randn(X.shape[1])"
   ]
  },
  {
   "cell_type": "code",
   "execution_count": 71,
   "metadata": {},
   "outputs": [],
   "source": [
    "def gradient_descent(W, X, y, iterations, eta=1e-4):\n",
    "    '''Классический градиентный спуск'''\n",
    "    n = X.shape[0]\n",
    "    \n",
    "    errors = []\n",
    "    w_list = [W.copy()]\n",
    "    for i in range(0, iterations):\n",
    "        y_pred = np.dot(X, W)\n",
    "        err = calc_mse(y, y_pred)\n",
    "        errors.append(err)\n",
    "        \n",
    "        dQ = 2/n * X.T @ (y_pred - y) # градиент функции ошибки\n",
    "        W -= (eta * dQ)\n",
    "        w_list.append(W.copy())\n",
    "        \n",
    "        if i % (iterations / 10) == 0:\n",
    "            print(f'Iter: {i}, error {err}')\n",
    "        \n",
    "    print(f'MSE: {calc_mse(y, np.dot(X, W))}')\n",
    "    return W, errors, w_list"
   ]
  },
  {
   "cell_type": "code",
   "execution_count": 72,
   "metadata": {},
   "outputs": [
    {
     "name": "stdout",
     "output_type": "stream",
     "text": [
      "Iter: 0, error 27979.272752767254\n",
      "Iter: 500, error 3738.232217575069\n",
      "Iter: 1000, error 518.6388255248817\n",
      "Iter: 1500, error 90.72566724830708\n",
      "Iter: 2000, error 33.811992742915194\n",
      "Iter: 2500, error 26.236945851143123\n",
      "Iter: 3000, error 25.228011523637203\n",
      "Iter: 3500, error 25.093533811524274\n",
      "Iter: 4000, error 25.075596872220995\n",
      "Iter: 4500, error 25.07320268805145\n",
      "MSE: 25.072882888141045\n",
      "CPU times: total: 1min 25s\n",
      "Wall time: 1min 59s\n"
     ]
    }
   ],
   "source": [
    "%%time\n",
    "weights_gd, err_gd, w_gd = gradient_descent(w(), X, Y, iterations=5000, eta=1e-3)"
   ]
  },
  {
   "cell_type": "code",
   "execution_count": 73,
   "metadata": {},
   "outputs": [
    {
     "data": {
      "text/plain": [
       "<matplotlib.legend.Legend at 0x1ac8eddb890>"
      ]
     },
     "execution_count": 73,
     "metadata": {},
     "output_type": "execute_result"
    },
    {
     "data": {
      "image/png": "[encoded data removed]",
      "text/plain": [
       "<Figure size 640x480 with 1 Axes>"
      ]
     },
     "metadata": {},
     "output_type": "display_data"
    }
   ],
   "source": [
    "plt.plot(range(len(err_gd)), err_gd, color='b', label='GD')\n",
    "# plt.plot(range(len(errors_SGD)), errors_SGD, color='g', label='SGD')\n",
    "plt.title('MSE')\n",
    "plt.xlabel('Iteration number')\n",
    "plt.ylabel('MSE')\n",
    "plt.xlim(0, 1000)\n",
    "plt.legend()"
   ]
  },
  {
   "cell_type": "code",
   "execution_count": 74,
   "metadata": {},
   "outputs": [],
   "source": [
    "def stohastic_gradient_descent(W, X, Y, iterations, eta=1e-4, size=1):\n",
    "    n = X.shape[0] \n",
    "    errors = []\n",
    "    w_list = [W.copy()]\n",
    "    for i in range(0, iterations):\n",
    "        train_ind = np.random.randint(X.shape[0], size=size)\n",
    "\n",
    "        y_pred = np.dot(X[train_ind], W)\n",
    "        W = W - eta * 2 / Y[train_ind].shape[0] * np.dot(X[train_ind].T, y_pred - Y[train_ind])\n",
    "\n",
    "        error = calc_mse(Y, np.dot(X, W))\n",
    "        errors.append(error)\n",
    "        w_list.append(W)\n",
    "        \n",
    "        if i % (iterations / 10) == 0:\n",
    "            print(f'Iter: {i}, error {error}')    \n",
    "    print(f'Final MSE: {calc_mse(Y, np.dot(X, W))}')\n",
    "    return W, errors, w_list"
   ]
  },
  {
   "cell_type": "code",
   "execution_count": 75,
   "metadata": {},
   "outputs": [
    {
     "data": {
      "text/plain": [
       "array([ 1.10855471e-03, -2.89544069e-01, -1.11606630e+00, -1.28827567e-02,\n",
       "       -3.78361464e-01, -4.81135363e-01, -1.51733118e+00, -4.90871981e-01,\n",
       "       -2.40680579e-01, -6.47947460e-01,  6.35891080e-01,  1.74011731e+00,\n",
       "        2.96682218e-01,  7.07503662e-01,  1.82281576e+00,  4.30769029e-01,\n",
       "        1.54272963e+00, -9.00721171e-01, -1.37125010e-01,  1.29757901e+00])"
      ]
     },
     "execution_count": 75,
     "metadata": {},
     "output_type": "execute_result"
    }
   ],
   "source": [
    "init_W"
   ]
  },
  {
   "cell_type": "code",
   "execution_count": 76,
   "metadata": {},
   "outputs": [
    {
     "name": "stdout",
     "output_type": "stream",
     "text": [
      "Iter: 0, error 27940.77081989326\n",
      "Iter: 500, error 3909.816186117472\n",
      "Iter: 1000, error 706.2521418796898\n",
      "Iter: 1500, error 120.35629563367924\n",
      "Iter: 2000, error 39.60425259602933\n",
      "Iter: 2500, error 28.22301680954602\n",
      "Iter: 3000, error 25.817348849230516\n",
      "Iter: 3500, error 25.704226689560503\n",
      "Iter: 4000, error 25.595371308044225\n",
      "Iter: 4500, error 25.525400398020874\n",
      "Final MSE: 25.42803342673532\n",
      "CPU times: total: 14.6 s\n",
      "Wall time: 19.3 s\n"
     ]
    }
   ],
   "source": [
    "%%time\n",
    "weights_sgd, err_sgd, w_sgd = stohastic_gradient_descent(w(), X, Y, iterations=5000, eta=1e-3, size=1)"
   ]
  },
  {
   "cell_type": "code",
   "execution_count": 77,
   "metadata": {},
   "outputs": [
    {
     "data": {
      "text/plain": [
       "<matplotlib.legend.Legend at 0x1ac8eb299d0>"
      ]
     },
     "execution_count": 77,
     "metadata": {},
     "output_type": "execute_result"
    },
    {
     "data": {
      "image/png": "[encoded data removed]",
      "text/plain": [
       "<Figure size 640x480 with 1 Axes>"
      ]
     },
     "metadata": {},
     "output_type": "display_data"
    }
   ],
   "source": [
    "plt.plot(range(len(err_gd)), err_gd, color='b', label='GD')\n",
    "plt.plot(range(len(err_sgd)), err_sgd, color='g', label='SGD')\n",
    "plt.title('MSE')\n",
    "plt.xlabel('Iteration number')\n",
    "plt.ylabel('MSE')\n",
    "plt.xlim(0, 1000)\n",
    "plt.legend()"
   ]
  },
  {
   "cell_type": "markdown",
   "metadata": {},
   "source": [
    "Из кода видно, что при одинаковом количестве итераций скорость выполнения стохастического градиентного спуска гораздо выше(в 4 раза), при этом из графика видно, что линия стохастического градиентного спуска не гладкая, но при этом имеет такое же значение при окончании схождения функции"
   ]
  }
 ],
 "metadata": {
  "kernelspec": {
   "display_name": "base",
   "language": "python",
   "name": "python3"
  },
  "language_info": {
   "codemirror_mode": {
    "name": "ipython",
    "version": 3
   },
   "file_extension": ".py",
   "mimetype": "text/x-python",
   "name": "python",
   "nbconvert_exporter": "python",
   "pygments_lexer": "ipython3",
   "version": "3.11.5"
  }
 },
 "nbformat": 4,
 "nbformat_minor": 2
}
