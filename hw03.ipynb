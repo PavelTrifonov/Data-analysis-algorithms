{
 "cells": [
  {
   "cell_type": "markdown",
   "metadata": {},
   "source": [
    "## Практическое задание"
   ]
  },
  {
   "cell_type": "markdown",
   "metadata": {},
   "source": [
    "1. Измените функцию calc_logloss так, чтобы нули по возможности не попадали в np.log.\n",
    "2. Подберите аргументы функции eval_model для логистической регрессии таким образом, чтобы log loss был минимальным.\n",
    "3. Создайте функцию calc_pred_proba, возвращающую предсказанную вероятность класса 1. На вход подаётся W, который уже посчитан функцией eval_model, и X, на выходе — массив y_pred_proba.\n",
    "4. Создайте функцию calc_pred, возвращающую предсказанный класс. На вход подаётся W, который уже посчитан функцией eval_model, и X, на выходе — массив y_pred.\n",
    "5. Посчитайте Accuracy, матрицу ошибок, точность и полноту, а также F1 score.\n",
    "6. Могла ли модель переобучиться? Почему?"
   ]
  },
  {
   "cell_type": "code",
   "execution_count": 1,
   "metadata": {},
   "outputs": [],
   "source": [
    "import numpy as np\n",
    "import matplotlib.pyplot as plt"
   ]
  },
  {
   "cell_type": "code",
   "execution_count": 2,
   "metadata": {},
   "outputs": [],
   "source": [
    "X = np.array([ [   1,    1,  500,    1],\n",
    "               [   1,    1,  700,    1],\n",
    "               [   1,    2,  750,    2],\n",
    "               [   1,    5,  600,    1],\n",
    "               [   1,    3, 1450,    2],\n",
    "               [   1,    0,  800,    1],\n",
    "               [   1,    5, 1500,    3],\n",
    "               [   1,   10, 2000,    3],\n",
    "               [   1,    1,  450,    1],\n",
    "               [   1,    2, 1000,    2]], dtype = np.float64)\n",
    "\n",
    "y = np.array([0, 0, 1, 0, 1, 0, 1, 0, 1, 1])"
   ]
  },
  {
   "cell_type": "code",
   "execution_count": 3,
   "metadata": {},
   "outputs": [
    {
     "data": {
      "text/plain": [
       "array([[1.00e+00, 1.00e+00, 5.00e+02, 1.00e+00],\n",
       "       [1.00e+00, 1.00e+00, 7.00e+02, 1.00e+00],\n",
       "       [1.00e+00, 2.00e+00, 7.50e+02, 2.00e+00],\n",
       "       [1.00e+00, 5.00e+00, 6.00e+02, 1.00e+00],\n",
       "       [1.00e+00, 3.00e+00, 1.45e+03, 2.00e+00],\n",
       "       [1.00e+00, 0.00e+00, 8.00e+02, 1.00e+00],\n",
       "       [1.00e+00, 5.00e+00, 1.50e+03, 3.00e+00],\n",
       "       [1.00e+00, 1.00e+01, 2.00e+03, 3.00e+00],\n",
       "       [1.00e+00, 1.00e+00, 4.50e+02, 1.00e+00],\n",
       "       [1.00e+00, 2.00e+00, 1.00e+03, 2.00e+00]])"
      ]
     },
     "execution_count": 3,
     "metadata": {},
     "output_type": "execute_result"
    }
   ],
   "source": [
    "X"
   ]
  },
  {
   "cell_type": "code",
   "execution_count": 4,
   "metadata": {},
   "outputs": [
    {
     "data": {
      "text/plain": [
       "array([0, 0, 1, 0, 1, 0, 1, 0, 1, 1])"
      ]
     },
     "execution_count": 4,
     "metadata": {},
     "output_type": "execute_result"
    }
   ],
   "source": [
    "y"
   ]
  },
  {
   "cell_type": "code",
   "execution_count": 5,
   "metadata": {},
   "outputs": [],
   "source": [
    "# Функция для стандартизации данных\n",
    "def calc_std_feat(x):\n",
    "    res = (x - x.mean(axis=0)) / x.std(axis=0)\n",
    "    return res"
   ]
  },
  {
   "cell_type": "code",
   "execution_count": 6,
   "metadata": {},
   "outputs": [],
   "source": [
    "# Стандартизация данных\n",
    "X_st = X.copy().astype(np.float64)\n",
    "X_st[:, 1:4] = calc_std_feat(X_st[:, 1:4])"
   ]
  },
  {
   "cell_type": "code",
   "execution_count": 7,
   "metadata": {},
   "outputs": [
    {
     "data": {
      "text/plain": [
       "array([[ 1.        , -0.70710678, -0.97958969, -0.89625816],\n",
       "       [ 1.        , -0.70710678, -0.56713087, -0.89625816],\n",
       "       [ 1.        , -0.35355339, -0.46401617,  0.38411064],\n",
       "       [ 1.        ,  0.70710678, -0.77336028, -0.89625816],\n",
       "       [ 1.        ,  0.        ,  0.97958969,  0.38411064],\n",
       "       [ 1.        , -1.06066017, -0.36090146, -0.89625816],\n",
       "       [ 1.        ,  0.70710678,  1.08270439,  1.66447944],\n",
       "       [ 1.        ,  2.47487373,  2.11385144,  1.66447944],\n",
       "       [ 1.        , -0.70710678, -1.08270439, -0.89625816],\n",
       "       [ 1.        , -0.35355339,  0.05155735,  0.38411064]])"
      ]
     },
     "execution_count": 7,
     "metadata": {},
     "output_type": "execute_result"
    }
   ],
   "source": [
    "X_st"
   ]
  },
  {
   "cell_type": "code",
   "execution_count": 8,
   "metadata": {},
   "outputs": [],
   "source": [
    "def calc_logloss(y, y_pred):\n",
    "    '''Эта функция вычисляет log loss, который является мерой ошибки\n",
    "        для задач бинарной классификации. Log loss выражает насколько\n",
    "        хорошо модель предсказывает вероятности целевого класса. Чем\n",
    "        ниже значение log loss, тем лучше. Функция принимает на вход\n",
    "        истинные метки (y) и предсказанные вероятности принадлежности\n",
    "        классу 1 (y_pred).'''\n",
    "    err = - np.mean(y * np.log(y_pred) + (1.0 - y) * np.log(1.0 - y_pred))\n",
    "    err = np.sum(err)\n",
    "    return err"
   ]
  },
  {
   "cell_type": "markdown",
   "metadata": {},
   "source": [
    "Изменили функцию calc_logloss так, чтобы нули по возможности не попадали в np.log."
   ]
  },
  {
   "cell_type": "code",
   "execution_count": 9,
   "metadata": {},
   "outputs": [],
   "source": [
    "# Функция для расчёта логарифмической ошибки (log loss)\n",
    "def calc_logloss(y, y_pred, epsilon=1e-15):\n",
    "    y_pred = np.clip(y_pred, epsilon, 1 - epsilon)\n",
    "    err = -np.mean(y * np.log(y_pred) + (1 - y) * np.log(1 - y_pred))\n",
    "    return err"
   ]
  },
  {
   "cell_type": "code",
   "execution_count": 10,
   "metadata": {},
   "outputs": [
    {
     "data": {
      "text/plain": [
       "0.05268025782891364"
      ]
     },
     "execution_count": 10,
     "metadata": {},
     "output_type": "execute_result"
    }
   ],
   "source": [
    "# Пример применения\n",
    "y1 = np.array([1, 0])\n",
    "y_pred1 = np.array([0.9, 0])\n",
    "calc_logloss(y1, y_pred1)"
   ]
  },
  {
   "cell_type": "code",
   "execution_count": 11,
   "metadata": {},
   "outputs": [],
   "source": [
    "# Сигмоидная функция\n",
    "def sigmoid(z):\n",
    "    return 1 / (1 + np.exp(-z))"
   ]
  },
  {
   "cell_type": "code",
   "execution_count": 12,
   "metadata": {},
   "outputs": [],
   "source": [
    "z = np.linspace(-10, 10, 101)"
   ]
  },
  {
   "cell_type": "code",
   "execution_count": 13,
   "metadata": {},
   "outputs": [],
   "source": [
    "probabilities = sigmoid(z)"
   ]
  },
  {
   "cell_type": "code",
   "execution_count": 14,
   "metadata": {},
   "outputs": [
    {
     "data": {
      "image/png": "[encoded data removed]",
      "text/plain": [
       "<Figure size 640x480 with 1 Axes>"
      ]
     },
     "metadata": {},
     "output_type": "display_data"
    }
   ],
   "source": [
    "plt.plot(z, probabilities)\n",
    "plt.show()"
   ]
  },
  {
   "cell_type": "markdown",
   "metadata": {},
   "source": [
    "Оценочная модель"
   ]
  },
  {
   "cell_type": "code",
   "execution_count": 15,
   "metadata": {},
   "outputs": [],
   "source": [
    "# Обучение модели\n",
    "def eval_model(X, y, iterations, eta=1e-4):\n",
    "    np.random.seed(42)\n",
    "    W = np.random.randn(X.shape[1])  # Инициализация весов\n",
    "    n = X.shape[0]  # Количество образцов\n",
    "    for i in range(iterations):\n",
    "        z = np.dot(X, W)\n",
    "        y_pred = sigmoid(z)\n",
    "        err = calc_logloss(y, y_pred)\n",
    "        dQ = 1/n * X.T @ (y_pred - y)\n",
    "        W -= eta * dQ\n",
    "        if i % (iterations // 10) == 0:\n",
    "            print(f\"Iteration {i}, Weights: {W}, Log Loss: {err}\")\n",
    "    final_error = calc_logloss(y, y_pred)\n",
    "    return W, final_error"
   ]
  },
  {
   "cell_type": "code",
   "execution_count": 16,
   "metadata": {},
   "outputs": [
    {
     "name": "stdout",
     "output_type": "stream",
     "text": [
      "Iteration 0, Weights: [ 0.46121499 -0.40908382  0.41426183  1.39855008], Log Loss: 0.7609587975918891\n",
      "Iteration 50, Weights: [ 0.01934395 -2.22448855 -0.72422385  3.35653644], Log Loss: 0.32217454105883103\n",
      "Iteration 100, Weights: [ 0.14368993 -2.72565582 -1.25084763  4.49936821], Log Loss: 0.28408280532782376\n",
      "Iteration 150, Weights: [ 0.27597708 -3.04804596 -1.66406473  5.33456462], Log Loss: 0.2640618221600833\n",
      "Iteration 200, Weights: [ 0.40061312 -3.30648689 -2.01135575  6.03032373], Log Loss: 0.2502359135310056\n",
      "Iteration 250, Weights: [ 0.51617638 -3.53440823 -2.31584727  6.64568741], Log Loss: 0.23945830971810986\n",
      "Iteration 300, Weights: [ 0.62360776 -3.7442131  -2.59040589  7.20746687], Log Loss: 0.23050076542279338\n",
      "Iteration 350, Weights: [ 0.7240716  -3.94133882 -2.8427639   7.72987874], Log Loss: 0.2227713796640049\n",
      "Iteration 400, Weights: [ 0.81855815 -4.12854521 -3.07782612  8.22132358], Log Loss: 0.2159428068492534\n",
      "Iteration 450, Weights: [ 0.9078523  -4.30743476 -3.29885114  8.68719521], Log Loss: 0.20981483092466185\n"
     ]
    }
   ],
   "source": [
    "W, final_error = eval_model(X_st, y, iterations=500, eta=1)"
   ]
  },
  {
   "cell_type": "code",
   "execution_count": 17,
   "metadata": {},
   "outputs": [
    {
     "data": {
      "text/plain": [
       "array([ 0.99091972, -4.47568728, -3.50401926,  9.12251431])"
      ]
     },
     "execution_count": 17,
     "metadata": {},
     "output_type": "execute_result"
    }
   ],
   "source": [
    "W"
   ]
  },
  {
   "cell_type": "markdown",
   "metadata": {},
   "source": [
    "Создадим функцию calc_pred_proba, возвращающую предсказанную вероятность класса 1. На вход подаётся W, который уже посчитан функцией eval_model, и X, на выходе — массив y_pred_proba."
   ]
  },
  {
   "cell_type": "code",
   "execution_count": 18,
   "metadata": {},
   "outputs": [],
   "source": [
    "# Функция для расчёта предсказанных вероятностей\n",
    "def calc_pred_proba(W, X):\n",
    "    z = np.dot(X, W)\n",
    "    y_pred_proba = sigmoid(z)\n",
    "    return y_pred_proba"
   ]
  },
  {
   "cell_type": "code",
   "execution_count": 19,
   "metadata": {},
   "outputs": [
    {
     "data": {
      "text/plain": [
       "array([3.57112658e-01, 1.15762825e-01, 9.99548864e-01, 4.80536041e-04,\n",
       "       7.43162929e-01, 2.36237496e-01, 9.99900629e-01, 9.04148728e-02,\n",
       "       4.43590599e-01, 9.97259064e-01])"
      ]
     },
     "execution_count": 19,
     "metadata": {},
     "output_type": "execute_result"
    }
   ],
   "source": [
    "y_pred_proba = calc_pred_proba(W, X_st)\n",
    "y_pred_proba"
   ]
  },
  {
   "cell_type": "markdown",
   "metadata": {},
   "source": [
    "Создадим функцию calc_pred, возвращающую предсказанный класс. На вход подаётся W, который уже посчитан функцией eval_model, \n",
    "и X, на выходе — массив y_pred."
   ]
  },
  {
   "cell_type": "code",
   "execution_count": 20,
   "metadata": {},
   "outputs": [],
   "source": [
    "# Функция для расчёта предсказанных классов\n",
    "def calc_pred(W, X):\n",
    "    '''Возвращает предсказанные классы (0 или 1)'''\n",
    "    y_pred_proba = calc_pred_proba(W, X)\n",
    "    y_pred = (y_pred_proba > 0.5).astype(int)\n",
    "    return y_pred"
   ]
  },
  {
   "cell_type": "code",
   "execution_count": 21,
   "metadata": {},
   "outputs": [
    {
     "data": {
      "text/plain": [
       "(array([0, 0, 1, 0, 1, 0, 1, 0, 0, 1]), array([0, 0, 1, 0, 1, 0, 1, 0, 1, 1]))"
      ]
     },
     "execution_count": 21,
     "metadata": {},
     "output_type": "execute_result"
    }
   ],
   "source": [
    "y_pred = calc_pred(W, X_st)\n",
    "y_pred, y"
   ]
  },
  {
   "cell_type": "markdown",
   "metadata": {},
   "source": [
    "Посчитаем Accuracy, матрицу ошибок, точность и полноту, а также F1 score."
   ]
  },
  {
   "cell_type": "code",
   "execution_count": 22,
   "metadata": {},
   "outputs": [],
   "source": [
    "# Точность\n",
    "def accuracy(y, y_pred):\n",
    "    accuracy = np.mean(y - y_pred)\n",
    "    return 1 - accuracy"
   ]
  },
  {
   "cell_type": "code",
   "execution_count": 23,
   "metadata": {},
   "outputs": [],
   "source": [
    "def confusion_matrix(y, y_pred):\n",
    "    '''Матрица ошибок'''\n",
    "    cm = np.zeros((2, 2))\n",
    "    for i in range(len(y)): \n",
    "        if y[i] == y_pred[i] == 1: # TP\n",
    "            cm[0][0] += 1\n",
    "        elif y[i] == y_pred[i] == 0: # TN\n",
    "            cm[1][1] += 1\n",
    "        elif y[i] != y_pred[i] and y[i] == 1: # FN\n",
    "            cm[1][0] += 1\n",
    "        elif y[i] != y_pred[i] and y[i] == 0: # FP\n",
    "            cm[0][1] += 1\n",
    "    return cm"
   ]
  },
  {
   "cell_type": "code",
   "execution_count": 24,
   "metadata": {},
   "outputs": [],
   "source": [
    "def precision(y, y_pred):\n",
    "    '''Вычисляет точность (precision) классификации'''\n",
    "    cm = confusion_matrix(y, y_pred)  # Получение матрицы ошибок\n",
    "    TP = cm[0][0]  # Извлечение значения TP (True Positive)\n",
    "    FP = cm[0][1]  # Извлечение значения FP (False Positive)\n",
    "    precision = TP / (TP + FP)  # Формула для вычисления точности\n",
    "    return precision\n"
   ]
  },
  {
   "cell_type": "code",
   "execution_count": 25,
   "metadata": {},
   "outputs": [],
   "source": [
    "def recall(y, y_pred):\n",
    "    '''Вычисляет полноту (recall) классификации'''\n",
    "    cm = confusion_matrix(y, y_pred)  # Получение матрицы ошибок\n",
    "    TP = cm[0][0]  # Извлечение значения TP (True Positive)\n",
    "    FN = cm[1][0]  # Извлечение значения FN (False Negative)\n",
    "    recall = TP / (TP + FN)  # Формула для вычисления полноты\n",
    "    return recall\n"
   ]
  },
  {
   "cell_type": "code",
   "execution_count": 26,
   "metadata": {},
   "outputs": [],
   "source": [
    "def f_score(y, y_pred):\n",
    "    '''Вычисляет F1-меру (F1-score) классификации'''\n",
    "    pr = precision(y, y_pred)  # Вычисление точности\n",
    "    rec = recall(y, y_pred)  # Вычисление полноты\n",
    "    f_score = 2 * pr * rec / (pr + rec)  # Формула \n",
    "    return f_score\n"
   ]
  },
  {
   "cell_type": "code",
   "execution_count": 27,
   "metadata": {},
   "outputs": [
    {
     "data": {
      "text/plain": [
       "0.9"
      ]
     },
     "execution_count": 27,
     "metadata": {},
     "output_type": "execute_result"
    }
   ],
   "source": [
    "accuracy(y, y_pred)"
   ]
  },
  {
   "cell_type": "code",
   "execution_count": 28,
   "metadata": {},
   "outputs": [
    {
     "data": {
      "text/plain": [
       "1.0"
      ]
     },
     "execution_count": 28,
     "metadata": {},
     "output_type": "execute_result"
    }
   ],
   "source": [
    "precision(y, y_pred)"
   ]
  },
  {
   "cell_type": "code",
   "execution_count": 29,
   "metadata": {},
   "outputs": [
    {
     "data": {
      "text/plain": [
       "0.8"
      ]
     },
     "execution_count": 29,
     "metadata": {},
     "output_type": "execute_result"
    }
   ],
   "source": [
    "recall(y, y_pred)"
   ]
  },
  {
   "cell_type": "code",
   "execution_count": 30,
   "metadata": {},
   "outputs": [
    {
     "data": {
      "text/plain": [
       "0.888888888888889"
      ]
     },
     "execution_count": 30,
     "metadata": {},
     "output_type": "execute_result"
    }
   ],
   "source": [
    "f_score(y, y_pred)"
   ]
  },
  {
   "cell_type": "code",
   "execution_count": 31,
   "metadata": {},
   "outputs": [
    {
     "data": {
      "text/plain": [
       "array([[4., 0.],\n",
       "       [1., 5.]])"
      ]
     },
     "execution_count": 31,
     "metadata": {},
     "output_type": "execute_result"
    }
   ],
   "source": [
    "confusion_matrix(y, y_pred)"
   ]
  },
  {
   "cell_type": "markdown",
   "metadata": {},
   "source": [
    "Да, модель может переобучиться. Переобучение происходит, когда модель слишком точно подстраивается под тренировочные данные и начинает выучивать шум или случайности в данных, вместо того чтобы обобщать общие закономерности. Это может произойти по нескольким причинам:\n",
    "\n",
    "Слишком сложная модель: Использование слишком сложной модели, которая имеет слишком много параметров или слоев, может привести к переобучению. Такие модели могут легко заучить тренировочные данные, вместо того чтобы выявить общие закономерности.\n",
    "\n",
    "Маленький размер тренировочного набора: Если тренировочный набор данных слишком маленький, модель может легко выучить его исключительно из-за случайных шумов или особенностей, что приведет к переобучению.\n",
    "\n",
    "Недостаточное регуляризация: Отсутствие или недостаточное применение методов регуляризации, таких как L1 или L2 регуляризация, может привести к переобучению, поскольку модель не будет наказываться за избыточную сложность.\n",
    "\n",
    "Перекос в данных: Неравномерное распределение классов или наличие выбросов в данных также может привести к переобучению, поскольку модель может слишком сосредоточиться на особенностях этих выбросов или наиболее частых классах, игнорируя общие закономерности.\n",
    "\n",
    "Неправильный выбор гиперпараметров: Неправильный выбор гиперпараметров, таких как скорость обучения, количество эпох или глубина деревьев в случае деревьев решений, также может привести к переобучению модели.\n",
    "\n",
    "Чтобы избежать переобучения, важно следить за общими правилами машинного обучения, такими как кросс-валидация, использование валидационного набора данных, применение методов регуляризации и тщательный подбор гиперпараметров."
   ]
  }
 ],
 "metadata": {
  "kernelspec": {
   "display_name": "base",
   "language": "python",
   "name": "python3"
  },
  "language_info": {
   "codemirror_mode": {
    "name": "ipython",
    "version": 3
   },
   "file_extension": ".py",
   "mimetype": "text/x-python",
   "name": "python",
   "nbconvert_exporter": "python",
   "pygments_lexer": "ipython3",
   "version": "3.11.5"
  }
 },
 "nbformat": 4,
 "nbformat_minor": 2
}
